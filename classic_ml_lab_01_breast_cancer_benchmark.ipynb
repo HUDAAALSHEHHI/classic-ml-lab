{
  "nbformat": 4,
  "nbformat_minor": 0,
  "metadata": {
    "colab": {
      "provenance": []
    },
    "kernelspec": {
      "name": "python3",
      "display_name": "Python 3"
    },
    "language_info": {
      "name": "python"
    }
  },
  "cells": [
    {
      "cell_type": "code",
      "source": [
        "!pip install xgboost --quiet\n",
        "import numpy as np, pandas as pd\n",
        "from sklearn.datasets import load_breast_cancer\n",
        "from sklearn.model_selection import StratifiedKFold, cross_val_score, train_test_split, GridSearchCV\n",
        "from sklearn.preprocessing import StandardScaler\n",
        "from sklearn.pipeline import Pipeline\n",
        "from sklearn.metrics import accuracy_score, f1_score, classification_report, ConfusionMatrixDisplay\n",
        "from sklearn.svm import SVC\n",
        "from sklearn.ensemble import RandomForestClassifier\n",
        "from xgboost import XGBClassifier\n",
        "import matplotlib.pyplot as plt\n",
        "np.random.seed(42)\n"
      ],
      "metadata": {
        "id": "QFXDMRbsFgJY"
      },
      "execution_count": 4,
      "outputs": []
    },
    {
      "cell_type": "code",
      "source": [
        "data = load_breast_cancer(as_frame=True)\n",
        "X, y = data.data, data.target\n",
        "X_train, X_test, y_train, y_test = train_test_split(\n",
        "    X, y, test_size=0.2, stratify=y, random_state=42\n",
        ")\n",
        "X.shape, X_train.shape, X_test.shape\n"
      ],
      "metadata": {
        "colab": {
          "base_uri": "https://localhost:8080/"
        },
        "id": "COR5PdiiGP08",
        "outputId": "4577e47d-d0d9-49d2-8af3-9459477f7a80"
      },
      "execution_count": 5,
      "outputs": [
        {
          "output_type": "execute_result",
          "data": {
            "text/plain": [
              "((569, 30), (455, 30), (114, 30))"
            ]
          },
          "metadata": {},
          "execution_count": 5
        }
      ]
    },
    {
      "cell_type": "code",
      "source": [
        "models = {\n",
        "    \"SVM_RBF\": Pipeline([(\"scaler\", StandardScaler()), (\"clf\", SVC(kernel=\"rbf\", C=1.0, gamma=\"scale\", probability=True))]),\n",
        "    \"RandomForest\": RandomForestClassifier(n_estimators=300, max_depth=None, random_state=42, n_jobs=-1),\n",
        "    \"XGBoost\": XGBClassifier(n_estimators=400, max_depth=6, learning_rate=0.05, subsample=0.9, colsample_bytree=0.9,\n",
        "                             eval_metric=\"logloss\", random_state=42, n_jobs=-1)\n",
        "}\n",
        "cv = StratifiedKFold(n_splits=5, shuffle=True, random_state=42)\n",
        "for name, model in models.items():\n",
        "    scores = cross_val_score(model, X, y, cv=cv, scoring=\"f1\")\n",
        "    print(f\"{name}: F1 mean={scores.mean():.4f} ± {scores.std():.4f}\")\n"
      ],
      "metadata": {
        "colab": {
          "base_uri": "https://localhost:8080/"
        },
        "id": "_z9CGtwAGYle",
        "outputId": "ee698b43-6e24-4401-a631-c2813cbd1494"
      },
      "execution_count": 6,
      "outputs": [
        {
          "output_type": "stream",
          "name": "stdout",
          "text": [
            "SVM_RBF: F1 mean=0.9820 ± 0.0128\n",
            "RandomForest: F1 mean=0.9624 ± 0.0100\n",
            "XGBoost: F1 mean=0.9694 ± 0.0093\n"
          ]
        }
      ]
    },
    {
      "cell_type": "code",
      "source": [
        "best_name = max(models, key=lambda k: cross_val_score(models[k], X, y, cv=cv, scoring=\"f1\").mean())\n",
        "best_model = models[best_name].fit(X_train, y_train)\n",
        "y_pred = best_model.predict(X_test)\n",
        "print(\"Best model:\", best_name)\n",
        "print(\"Accuracy:\", accuracy_score(y_test, y_pred))\n",
        "print(\"F1:\", f1_score(y_test, y_pred))\n",
        "print(classification_report(y_test, y_pred, target_names=data.target_names))\n",
        "ConfusionMatrixDisplay.from_estimator(best_model, X_test, y_test)\n",
        "plt.show()\n"
      ],
      "metadata": {
        "colab": {
          "base_uri": "https://localhost:8080/",
          "height": 658
        },
        "id": "pI_feWu5Gdhy",
        "outputId": "693903d3-3406-46ef-dc96-75c8b004691d"
      },
      "execution_count": 7,
      "outputs": [
        {
          "output_type": "stream",
          "name": "stdout",
          "text": [
            "Best model: SVM_RBF\n",
            "Accuracy: 0.9824561403508771\n",
            "F1: 0.9861111111111112\n",
            "              precision    recall  f1-score   support\n",
            "\n",
            "   malignant       0.98      0.98      0.98        42\n",
            "      benign       0.99      0.99      0.99        72\n",
            "\n",
            "    accuracy                           0.98       114\n",
            "   macro avg       0.98      0.98      0.98       114\n",
            "weighted avg       0.98      0.98      0.98       114\n",
            "\n"
          ]
        },
        {
          "output_type": "display_data",
          "data": {
            "text/plain": [
              "<Figure size 640x480 with 2 Axes>"
            ],
            "image/png": "[encoded data removed]"
          },
          "metadata": {}
        }
      ]
    },
    {
      "cell_type": "code",
      "source": [
        "param_grid = {\"clf__C\":[0.1,1,10], \"clf__gamma\":[\"scale\", 0.1, 0.01]}\n",
        "svm_pipe = Pipeline([(\"scaler\", StandardScaler()), (\"clf\", SVC(kernel=\"rbf\", probability=True))])\n",
        "grid = GridSearchCV(svm_pipe, param_grid, cv=cv, scoring=\"f1\", n_jobs=-1)\n",
        "grid.fit(X_train, y_train)\n",
        "print(\"Best params:\", grid.best_params_, \"Best F1:\", grid.best_score_)\n"
      ],
      "metadata": {
        "colab": {
          "base_uri": "https://localhost:8080/"
        },
        "id": "kzg6y58QGj4y",
        "outputId": "deb6607c-d00a-439a-de82-8e4e13c085f5"
      },
      "execution_count": 8,
      "outputs": [
        {
          "output_type": "stream",
          "name": "stdout",
          "text": [
            "Best params: {'clf__C': 10, 'clf__gamma': 0.01} Best F1: 0.9809869017218904\n"
          ]
        }
      ]
    },
    {
      "cell_type": "code",
      "source": [],
      "metadata": {
        "id": "VyT77DjPGrnv"
      },
      "execution_count": null,
      "outputs": []
    }
  ]
}